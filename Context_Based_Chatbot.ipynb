{
  "nbformat": 4,
  "nbformat_minor": 0,
  "metadata": {
    "colab": {
      "provenance": []
    },
    "kernelspec": {
      "name": "python3",
      "display_name": "Python 3"
    },
    "language_info": {
      "name": "python"
    }
  },
  "cells": [
    {
      "cell_type": "code",
      "execution_count": 46,
      "metadata": {
        "colab": {
          "base_uri": "https://localhost:8080/"
        },
        "id": "EKjIfqRK9MaY",
        "outputId": "c7c7e005-42f7-4af4-84a2-3d9d514b51e8"
      },
      "outputs": [
        {
          "output_type": "stream",
          "name": "stdout",
          "text": [
            "/usr/lib/python3.10/runpy.py:126: RuntimeWarning: 'nltk.downloader' found in sys.modules after import of package 'nltk', but prior to execution of 'nltk.downloader'; this may result in unpredictable behaviour\n",
            "  warn(RuntimeWarning(msg))\n",
            "[nltk_data] Downloading package punkt to /root/nltk_data...\n",
            "[nltk_data]   Package punkt is already up-to-date!\n"
          ]
        }
      ],
      "source": [
        "import nltk\n",
        "import random\n",
        "import string\n",
        "!python -m nltk.downloader punkt"
      ]
    },
    {
      "cell_type": "code",
      "source": [
        "train = open('/content/about transformer.txt', 'r', errors='ignore')\n",
        "corpus = train.read()\n",
        "corpus = corpus.lower()"
      ],
      "metadata": {
        "id": "LhhO37yn9osT"
      },
      "execution_count": 47,
      "outputs": []
    },
    {
      "cell_type": "code",
      "source": [
        "sent_tokens = nltk.sent_tokenize(corpus) #converts to list of scentences\n",
        "word_tokens = nltk.word_tokenize(corpus) #converts to list of words"
      ],
      "metadata": {
        "id": "vj4W4cf09_Ur"
      },
      "execution_count": 48,
      "outputs": []
    },
    {
      "cell_type": "code",
      "source": [
        "lemmer = nltk.stem.WordNetLemmatizer()\n",
        "\n",
        "def LemTokens(tokens):\n",
        "    return [lemmer.lemmatize(token) for token in tokens]\n",
        "remove_punct_dict = dict((ord(punct), None) for punct in string.punctuation)\n"
      ],
      "metadata": {
        "id": "Tv9hRGge-SQF"
      },
      "execution_count": 49,
      "outputs": []
    },
    {
      "cell_type": "code",
      "source": [
        "def LemNormalize(text):\n",
        "    return LemTokens(nltk.word_tokenize(text.lower().translate(remove_punct_dict)))"
      ],
      "metadata": {
        "id": "oqXIBgmL-sO-"
      },
      "execution_count": 50,
      "outputs": []
    },
    {
      "cell_type": "code",
      "source": [
        "GREETING_INPUTS = (\"hello\", \"hi\", \"greetings\", \"sup\", \"what's up\", \"hey\")\n",
        "GREETING_RESPONSES = [\"hi\", \"hey\", \"nods\", \"hi\", \"hello\", \"I am glad! you are talking to me\"]"
      ],
      "metadata": {
        "id": "b6iiQmag_T_N"
      },
      "execution_count": 51,
      "outputs": []
    },
    {
      "cell_type": "code",
      "source": [
        "def greeting(scentence):\n",
        "\n",
        "    for word in scentence.split():\n",
        "        if word.lower() in GREETING_INPUTS:\n",
        "            return random.choice(GREETING_RESPONSES)"
      ],
      "metadata": {
        "id": "LfFasqTK_dPL"
      },
      "execution_count": 52,
      "outputs": []
    },
    {
      "cell_type": "code",
      "source": [
        "from sklearn.feature_extraction.text import TfidfVectorizer\n",
        "from sklearn.metrics.pairwise import cosine_similarity\n",
        "!pip install nltk\n",
        "!python -m nltk.downloader wordnet\n",
        "import nltk\n",
        "nltk.download('wordnet')"
      ],
      "metadata": {
        "colab": {
          "base_uri": "https://localhost:8080/"
        },
        "id": "0Y9AMBonAM7C",
        "outputId": "d20c5081-dbc4-4b31-a1fe-db2c678996fc"
      },
      "execution_count": 53,
      "outputs": [
        {
          "output_type": "stream",
          "name": "stdout",
          "text": [
            "Requirement already satisfied: nltk in /usr/local/lib/python3.10/dist-packages (3.8.1)\n",
            "Requirement already satisfied: click in /usr/local/lib/python3.10/dist-packages (from nltk) (8.1.7)\n",
            "Requirement already satisfied: joblib in /usr/local/lib/python3.10/dist-packages (from nltk) (1.4.2)\n",
            "Requirement already satisfied: regex>=2021.8.3 in /usr/local/lib/python3.10/dist-packages (from nltk) (2023.12.25)\n",
            "Requirement already satisfied: tqdm in /usr/local/lib/python3.10/dist-packages (from nltk) (4.66.4)\n",
            "/usr/lib/python3.10/runpy.py:126: RuntimeWarning: 'nltk.downloader' found in sys.modules after import of package 'nltk', but prior to execution of 'nltk.downloader'; this may result in unpredictable behaviour\n",
            "  warn(RuntimeWarning(msg))\n",
            "[nltk_data] Downloading package wordnet to /root/nltk_data...\n",
            "[nltk_data]   Package wordnet is already up-to-date!\n"
          ]
        },
        {
          "output_type": "stream",
          "name": "stderr",
          "text": [
            "[nltk_data] Downloading package wordnet to /root/nltk_data...\n",
            "[nltk_data]   Package wordnet is already up-to-date!\n"
          ]
        },
        {
          "output_type": "execute_result",
          "data": {
            "text/plain": [
              "True"
            ]
          },
          "metadata": {},
          "execution_count": 53
        }
      ]
    },
    {
      "cell_type": "code",
      "source": [
        "def response(user_response):\n",
        "    chatbot_response = ''\n",
        "    sent_tokens.append(user_response)\n",
        "    TfidfVec = TfidfVectorizer(tokenizer=LemNormalize, stop_words=\"english\")\n",
        "    tfidf = TfidfVec.fit_transform(sent_tokens)\n",
        "    vals = cosine_similarity(tfidf[-1], tfidf)\n",
        "    idx = vals.argsort()[0][-2]\n",
        "    flat = vals.flatten()\n",
        "    flat.sort()\n",
        "    req_tfidf = flat[-2]\n",
        "    if(req_tfidf == 0):\n",
        "        chatbot_response = chatbot_response + \"I am sorry! I don't understand you\"\n",
        "        return chatbot_response\n",
        "\n",
        "    else:\n",
        "        chatbot_response=chatbot_response+sent_tokens[idx]\n",
        "        return chatbot_response"
      ],
      "metadata": {
        "id": "Jpq__SztARNC"
      },
      "execution_count": 54,
      "outputs": []
    },
    {
      "cell_type": "code",
      "source": [
        "if __name__ == \"__main__\":\n",
        "    flag = True\n",
        "    print(\"Hello, there my name is Mico. I will answer your queries. If you want to exit, type Bye!\")\n",
        "    while(flag==True):\n",
        "        user_response = input()\n",
        "        user_response = user_response.lower()\n",
        "        if(user_response!='bye'):\n",
        "            if user_response == 'thanks' or user_response == 'thank you':\n",
        "                flag = False\n",
        "                print(\"Mico: You're welcome!\")\n",
        "            else:\n",
        "                if(greeting(user_response)!=None):\n",
        "                    print(\"Mico:\" +greeting(user_response))\n",
        "                else:\n",
        "                    print(\"Mico:\", end='')\n",
        "                    print(response(user_response))\n",
        "                    sent_tokens.remove(user_response)\n",
        "        else:\n",
        "            flag = False\n",
        "            print(\"Mico: Bye! Have a great time!\" )"
      ],
      "metadata": {
        "colab": {
          "base_uri": "https://localhost:8080/"
        },
        "id": "8Q5HK593Abdp",
        "outputId": "7a83112f-5a9b-43e8-ec1e-2c8c2ad1a7b3"
      },
      "execution_count": 55,
      "outputs": [
        {
          "output_type": "stream",
          "name": "stdout",
          "text": [
            "Hello, there my name is Mico. I will answer your queries. If you want to exit, type Bye!\n",
            "Hi\n",
            "Mico:hey\n",
            "What is transformer model?\n",
            "Mico:transformer models work by first encoding the input sentence into a sequence of vectors.\n",
            "What is attention?\n",
            "Mico:the attention mechanism is what allows transformer models to learn long-range dependencies between words in a sentence.\n",
            "asdf\n",
            "Mico:I am sorry! I don't understand you\n",
            "Ok thanks\n",
            "Mico:I am sorry! I don't understand you\n",
            "Bye\n",
            "Mico: Bye! Have a great time!\n"
          ]
        }
      ]
    }
  ]
}